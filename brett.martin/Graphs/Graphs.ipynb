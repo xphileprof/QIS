{
 "cells": [
  {
   "cell_type": "code",
   "execution_count": 4,
   "metadata": {},
   "outputs": [],
   "source": [
    "import matplotlib.pyplot as plt\n",
    "import numpy as np"
   ]
  },
  {
   "cell_type": "code",
   "execution_count": 11,
   "metadata": {},
   "outputs": [
    {
     "data": {
      "image/png": "[encoded data removed]",
      "text/plain": [
       "<Figure size 432x288 with 1 Axes>"
      ]
     },
     "metadata": {
      "needs_background": "light"
     },
     "output_type": "display_data"
    }
   ],
   "source": [
    "# For Algo Version 2 Exec times, all depths\n",
    "\n",
    "labels = ['1', '10', '100']\n",
    "depth_3_times = [0.004, 0.04, 0.377]\n",
    "depth_5_times = [0.012, 0.109, 1.082]\n",
    "depth_7_times = [0.027, 0.24, 2.367]\n",
    "\n",
    "x = np.arange(len(labels))  # the label locations\n",
    "width = 0.15  # the width of the bars\n",
    "\n",
    "fig, ax = plt.subplots()\n",
    "rects1 = ax.bar(x - width, depth_3_times, width, label='Depth 3')\n",
    "rects2 = ax.bar(x, depth_5_times, width, label=\"Depth 5\")\n",
    "rects3 = ax.bar(x + width, depth_7_times, width, label='Depth 7')\n",
    "\n",
    "# Add some text for labels, title and custom x-axis tick labels, etc.\n",
    "ax.set_ylabel('Execution Time')\n",
    "ax.set_xlabel('Thousands of Samples')\n",
    "ax.set_title('Version 2 Algorithm Execution Time by Number of Samples')\n",
    "ax.set_xticks(x, labels)\n",
    "ax.legend()\n",
    "\n",
    "fig.tight_layout()\n",
    "\n",
    "plt.show()"
   ]
  },
  {
   "cell_type": "code",
   "execution_count": null,
   "metadata": {},
   "outputs": [],
   "source": [
    "# For Algo Version 3 Exec times, all depths\n",
    "\n",
    "labels = ['1', '10']\n",
    "depth_3_times = [0.004, 0.04, 0.377]\n",
    "depth_5_times = [0.012, 0.109, 1.082]\n",
    "depth_7_times = [0.027, 0.24, 2.367]\n",
    "\n",
    "x = np.arange(len(labels))  # the label locations\n",
    "width = 0.15  # the width of the bars\n",
    "\n",
    "fig, ax = plt.subplots()\n",
    "rects1 = ax.bar(x - width, depth_3_times, width, label='Depth 3')\n",
    "rects2 = ax.bar(x, depth_5_times, width, label=\"Depth 5\")\n",
    "rects3 = ax.bar(x + width, depth_7_times, width, label='Depth 7')\n",
    "\n",
    "# Add some text for labels, title and custom x-axis tick labels, etc.\n",
    "ax.set_ylabel('Execution Time')\n",
    "ax.set_xlabel('Thousands of Samples')\n",
    "ax.set_title('Version 3 Algorithm Execution Time by Number of Samples')\n",
    "ax.set_xticks(x, labels)\n",
    "ax.legend()\n",
    "\n",
    "fig.tight_layout()\n",
    "\n",
    "plt.show()"
   ]
  }
 ],
 "metadata": {
  "kernelspec": {
   "display_name": "Python 3",
   "language": "python",
   "name": "python3"
  },
  "language_info": {
   "codemirror_mode": {
    "name": "ipython",
    "version": 3
   },
   "file_extension": ".py",
   "mimetype": "text/x-python",
   "name": "python",
   "nbconvert_exporter": "python",
   "pygments_lexer": "ipython3",
   "version": "3.7.7"
  }
 },
 "nbformat": 4,
 "nbformat_minor": 4
}
